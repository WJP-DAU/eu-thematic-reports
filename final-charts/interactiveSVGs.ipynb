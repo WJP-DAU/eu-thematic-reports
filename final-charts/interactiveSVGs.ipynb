{
 "cells": [
  {
   "cell_type": "code",
   "execution_count": 7,
   "metadata": {},
   "outputs": [],
   "source": [
    "import os\n",
    "import pandas as pd\n",
    "import SVGhandler"
   ]
  },
  {
   "cell_type": "code",
   "execution_count": 8,
   "metadata": {},
   "outputs": [],
   "source": [
    "# Reading outline\n",
    "path2SP = f\"/Users/{os.getlogin()}/OneDrive - World Justice Project/EU Subnational/EU-S Data/reports/eu-thematic-reports\"\n",
    "outline = pd.read_excel(f\"{path2SP}/data-viz/inputs/report_outline.xlsx\")\n",
    "\n",
    "charts4reports = (\n",
    "    outline\n",
    "    .loc[(outline[\"thematic_reports\"] == True) & (outline[\"type\"] != \"Box\") & (outline[\"report\"] == \"Justice & Safety\"), [\"chart_id\", \"type\"]]\n",
    ")\n",
    "charts4reports = dict(zip(charts4reports[\"chart_id\"], charts4reports[\"type\"]))"
   ]
  },
  {
   "cell_type": "code",
   "execution_count": 9,
   "metadata": {},
   "outputs": [],
   "source": [
    "# Loading color schemes\n",
    "region_colors  = pd.read_excel(f\"{path2SP}/data-viz/inputs/region_labels.xlsx\")\n",
    "color_range    = pd.read_excel(f\"{path2SP}/data-viz/inputs/color_range.xlsx\")\n",
    "\n",
    "color_scheme = {\n",
    "    \"Map\"               : region_colors,\n",
    "    \"Dumbbells\"         : region_colors,\n",
    "    \"Bars\"              : color_range.copy().loc[color_range[\"level\"] == \"national\"],\n",
    "    \"QRQ Bars\"          : color_range.copy().loc[color_range[\"level\"] == \"national\"],\n",
    "    \"Dots\"              : color_range.copy().loc[color_range[\"level\"] == \"national\"],\n",
    "    \"Lollipop\"          : color_range,\n",
    "    \"Table\"             : None,\n",
    "    \"Scatterplot\"       : region_colors,\n",
    "    \"Map (Categorical)\" : region_colors\n",
    "}"
   ]
  },
  {
   "cell_type": "code",
   "execution_count": 10,
   "metadata": {},
   "outputs": [],
   "source": [
    "# Creating sub-directories if not already created\n",
    "for report in [\"R1\", \"R2\", \"R3\"]:\n",
    "    os.makedirs(report, exist_ok = True)"
   ]
  },
  {
   "cell_type": "code",
   "execution_count": 11,
   "metadata": {},
   "outputs": [
    {
     "name": "stdout",
     "output_type": "stream",
     "text": [
      "Adding interactivity to chart R2F1: Dumbbells\n",
      "Data for the following regions not found: HR02, DK02, DK05, FI19, FI1D, FRB, FRC, FRD, FRF, FRM, DEE, PT2, SE3\n",
      "Adding interactivity to chart R2F2: Map\n",
      "Adding interactivity to chart R2F3: Map\n",
      "Adding interactivity to chart R2F4: Dumbbells\n",
      "Data for the following regions not found: HR02, DK02, DK05, FI19, FI1D, FRB, FRC, FRD, FRF, FRM, DEE, IE04, PT2, SE3\n",
      "Adding interactivity to chart R2F5: Map\n",
      "Adding interactivity to chart R2F6: Dumbbells\n",
      "Data for the following regions not found: HR02, DK02, DK05, FI19, FI1D, FRB, FRC, FRD, FRF, FRM, DEE, PT2, SE3\n",
      "Adding interactivity to chart R2F7: Map\n",
      "Adding interactivity to chart R2F8: Map\n",
      "Adding interactivity to chart R2F9: Dumbbells\n",
      "Data for the following regions not found: HR02, DK02, DK05, FI19, FI1D, FRB, FRC, FRD, FRF, FRM, DEE, PT2, SE3\n",
      "Adding interactivity to chart R2F10: Map\n",
      "Adding interactivity to chart R2F11: Map\n",
      "Adding interactivity to chart R2F12: Map\n",
      "Adding interactivity to chart R2F13: Map\n",
      "Adding interactivity to chart R2F14: Map\n",
      "Adding interactivity to chart R2F15: Dumbbells\n",
      "Data for the following regions not found: AT2, HR02, CZ0708, DK02, DK05, FI19, FI1D, FRB, FRC, FRD, FRF, FRM, DE8, DEE, PT2, SE3\n",
      "Adding interactivity to chart R2F16: Map\n",
      "Adding interactivity to chart R2F17: Dumbbells\n",
      "Data for the following regions not found: AT2, BE2, HR02, CZ0708, DK02, DK05, FI19, FI1D, FRB, FRC, FRD, FRF, FRM, DE8, DEE, NL1, PT2, SE3\n",
      "Adding interactivity to chart R2F18: Map\n",
      "Adding interactivity to chart R2F19: Map\n",
      "Tooltips for the following regions not found: IE06, IE04, IE05\n",
      "Polygons for the following regions not found: \n",
      "No SVG handler method for R2F20 - type: Table. Saving SVG object to target\n",
      "Adding interactivity to chart R2F21: Map\n",
      "Adding interactivity to chart R2F22: Map\n",
      "Adding interactivity to chart R2F23: Map\n",
      "Tooltips for the following regions not found: IE06, IE04, IE05\n",
      "Polygons for the following regions not found: \n",
      "Adding interactivity to chart R2F24: Map\n",
      "Tooltips for the following regions not found: IE06, IE04, IE05\n",
      "Polygons for the following regions not found: \n",
      "Adding interactivity to chart R2F25: Bars\n",
      "Data for the following countries not found: IE\n",
      "Adding interactivity to chart R2F26: Bars\n",
      "Data for the following countries not found: IE\n",
      "Adding interactivity to chart R2F27: Bars\n",
      "Data for the following countries not found: IE\n",
      "Adding interactivity to chart R2F28: Bars\n",
      "Data for the following countries not found: IE\n",
      "Adding interactivity to chart R2F29: Bars\n",
      "Data for the following countries not found: IE\n",
      "Adding interactivity to chart R2F30: Dumbbells\n",
      "Data for the following regions not found: DK02, DK03, DK05, FI19, FRB, FRD, FRH, FRM, DE8, DEC, NL1, NL2, PT2, SI03\n",
      "Adding interactivity to chart R2F31: Scatterplot\n",
      "Adding interactivity to chart R2F32: Map\n",
      "Adding interactivity to chart R2F33: Map\n",
      "Adding interactivity to chart R2F34: Dumbbells\n",
      "Data for the following regions not found: DK01, DK02, DK03, DK05, FI19, FRB, FRD, FRH, FRM, DE8, DEC, NL1, NL2, PT2, SI03\n",
      "Adding interactivity to chart R2F35: Scatterplot\n",
      "Adding interactivity to chart R2F36: Map\n",
      "Adding interactivity to chart R2F37: Map\n",
      "Adding interactivity to chart R2F38: Dumbbells\n",
      "Data for the following regions not found: DK02, DK03, DK05, FI19, FRB, FRD, FRM, DE8, DEC, NL1, NL2, PT2, SI03\n",
      "Adding interactivity to chart R2F39: Scatterplot\n",
      "Adding interactivity to chart R2F40: Map\n",
      "Adding interactivity to chart R2F41: Dumbbells\n",
      "Data for the following regions not found: AT2, DK02, DK03, DK04, DK05, FI19, FRB, FRC, FRD, FRG, FRM, DE5, DE8, DEC, MT00, NL1, NL2, PT2, SI03, SE3\n",
      "Adding interactivity to chart R2F42: Dumbbells\n",
      "Data for the following regions not found: DK01, DK02, DK03, DK04, DK05, FI19, FRB, FRD, FRM, DE8, DEC, DED, MT00, NL1, NL2, PT2, SI03\n",
      "Adding interactivity to chart R2F43: Map\n",
      "Adding interactivity to chart R2F44: Map\n",
      "Adding interactivity to chart R2F45: Map\n",
      "Adding interactivity to chart R2F46: Map\n",
      "Adding interactivity to chart R2F47: Dumbbells\n",
      "Data for the following regions not found: DK02, DK03, DK05, FI19, FRB, FRD, FRM, DE8, DEC, NL1, NL2, PT2, SI03\n",
      "Adding interactivity to chart R2F48: Scatterplot\n",
      "Adding interactivity to chart R2F49: Map\n",
      "Adding interactivity to chart R2F50: Map\n",
      "Adding interactivity to chart R2F51: Map\n",
      "Adding interactivity to chart R2F52: Map\n",
      "Adding interactivity to chart R2F53: Map\n",
      "Adding interactivity to chart R2F54: Dumbbells\n",
      "Data for the following regions not found: AT2, CZ0708, DK02, DK03, DK05, FI19, FRB, FRD, FRH, FRM, DE5, DE8, DEC, DEE, MT00, NL1, NL2, PT2, SI03\n",
      "Adding interactivity to chart R2F55: Map\n",
      "Adding interactivity to chart R2F56: Map\n",
      "Adding interactivity to chart R2F57: Map\n",
      "Adding interactivity to chart R2F58: Map\n",
      "Tooltips for the following regions not found: IE06, IE04, IE05\n",
      "Polygons for the following regions not found: \n",
      "Adding interactivity to chart R2F59: Map\n",
      "Tooltips for the following regions not found: IE06, IE04, IE05\n",
      "Polygons for the following regions not found: \n",
      "Adding interactivity to chart R2F60: Map\n",
      "Tooltips for the following regions not found: IE06, IE04, IE05\n",
      "Polygons for the following regions not found: \n"
     ]
    }
   ],
   "source": [
    "# Using the SVG handler to add interactivity\n",
    "for chart, type in charts4reports.items():\n",
    "    original = SVGhandler.svg(chart, type)\n",
    "    original.addInteractivity(color_scheme[type])"
   ]
  },
  {
   "cell_type": "markdown",
   "metadata": {},
   "source": [
    "## Testing Ground"
   ]
  },
  {
   "cell_type": "code",
   "execution_count": 12,
   "metadata": {},
   "outputs": [],
   "source": [
    "# original = SVGhandler.svg(\"R2F31\", \"Scatterplot\")\n",
    "# original.addInteractivity(color_scheme[\"Scatterplot\"])"
   ]
  }
 ],
 "metadata": {
  "kernelspec": {
   "display_name": "Python 3",
   "language": "python",
   "name": "python3"
  },
  "language_info": {
   "codemirror_mode": {
    "name": "ipython",
    "version": 3
   },
   "file_extension": ".py",
   "mimetype": "text/x-python",
   "name": "python",
   "nbconvert_exporter": "python",
   "pygments_lexer": "ipython3",
   "version": "3.11.9"
  }
 },
 "nbformat": 4,
 "nbformat_minor": 2
}
