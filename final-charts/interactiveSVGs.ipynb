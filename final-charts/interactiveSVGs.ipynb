{
 "cells": [
  {
   "cell_type": "code",
   "execution_count": 11,
   "metadata": {},
   "outputs": [],
   "source": [
    "import os\n",
    "import pandas as pd\n",
    "import SVGhandler"
   ]
  },
  {
   "cell_type": "code",
   "execution_count": 2,
   "metadata": {},
   "outputs": [],
   "source": [
    "# Reading outline\n",
    "path2SP = f\"/Users/{os.getlogin()}/OneDrive - World Justice Project/EU Subnational/EU-S Data/reports/eu-thematic-reports\"\n",
    "outline = pd.read_excel(f\"{path2SP}/data-viz/inputs/report_outline.xlsx\")\n",
    "charts4reports = (\n",
    "    outline\n",
    "    .loc[(outline[\"thematic_reports\"] == True) & (outline[\"type\"] != \"Box\"), [\"chart_id\", \"type\"]]\n",
    ")\n",
    "charts4reports = dict(zip(charts4reports[\"chart_id\"], charts4reports[\"type\"]))"
   ]
  },
  {
   "cell_type": "code",
   "execution_count": 4,
   "metadata": {},
   "outputs": [],
   "source": [
    "# Loading color schemes\n",
    "region_colors  = pd.read_excel(f\"{path2SP}/data-viz/inputs/region_labels.xlsx\")\n",
    "# country_colors = ...\n",
    "# dots_colors    = ...\n",
    "\n",
    "color_scheme = {\n",
    "    \"Map\"               : region_colors,\n",
    "    \"Dumbbells\"         : region_colors,\n",
    "    \"Bars\"              : None,\n",
    "    \"Dots\"              : None,\n",
    "    \"Lollipop\"          : None,\n",
    "    \"Table\"             : None,\n",
    "    \"Scatterplot\"       : None,\n",
    "    \"Map (Categorical)\" : None\n",
    "}"
   ]
  },
  {
   "cell_type": "code",
   "execution_count": 5,
   "metadata": {},
   "outputs": [],
   "source": [
    "# Creating sub-directories if not already created\n",
    "for report in [\"R1\", \"R2\", \"R3\"]:\n",
    "    os.makedirs(report, exist_ok = True)"
   ]
  },
  {
   "cell_type": "code",
   "execution_count": null,
   "metadata": {},
   "outputs": [],
   "source": [
    "# Using the SVG handler to add interactivity\n",
    "for chart, type in charts4reports.items():\n",
    "    original = SVGhandler.svg(chart, type)\n",
    "    original.addInteractivity(color_scheme[type])"
   ]
  }
 ],
 "metadata": {
  "kernelspec": {
   "display_name": "Python 3",
   "language": "python",
   "name": "python3"
  },
  "language_info": {
   "codemirror_mode": {
    "name": "ipython",
    "version": 3
   },
   "file_extension": ".py",
   "mimetype": "text/x-python",
   "name": "python",
   "nbconvert_exporter": "python",
   "pygments_lexer": "ipython3",
   "version": "3.11.9"
  }
 },
 "nbformat": 4,
 "nbformat_minor": 2
}
