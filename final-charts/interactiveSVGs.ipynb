{
 "cells": [
  {
   "cell_type": "code",
   "execution_count": 1,
   "metadata": {},
   "outputs": [],
   "source": [
    "import os\n",
    "import pandas as pd\n",
    "import SVGhandler"
   ]
  },
  {
   "cell_type": "code",
   "execution_count": 2,
   "metadata": {},
   "outputs": [],
   "source": [
    "# Reading outline\n",
    "path2SP = f\"/Users/{os.getlogin()}/OneDrive - World Justice Project/EU Subnational/EU-S Data/reports/eu-thematic-reports\"\n",
    "outline = pd.read_excel(f\"{path2SP}/data-viz/inputs/report_outline.xlsx\")\n",
    "\n",
    "outline = outline.loc[(outline[\"report\"] == \"Justice and Safety\")]\n",
    "\n",
    "charts4reports = (\n",
    "    outline\n",
    "    .loc[(outline[\"thematic_reports\"] == True) & (outline[\"type\"] != \"Box\"), [\"chart_id\", \"type\"]]\n",
    ")\n",
    "charts4reports = dict(zip(charts4reports[\"chart_id\"][29:], charts4reports[\"type\"][29:]))"
   ]
  },
  {
   "cell_type": "code",
   "execution_count": 8,
   "metadata": {},
   "outputs": [],
   "source": [
    "# Loading color schemes\n",
    "region_colors  = pd.read_excel(f\"{path2SP}/data-viz/inputs/region_labels.xlsx\")\n",
    "color_range    = pd.read_excel(f\"{path2SP}/data-viz/inputs/color_range.xlsx\")\n",
    "\n",
    "color_scheme = {\n",
    "    \"Map\"               : region_colors,\n",
    "    \"Dumbbells\"         : region_colors,\n",
    "    \"Bars\"              : color_range.copy().loc[color_range[\"level\"] == \"national\"],\n",
    "    \"Dots\"              : color_range.copy().loc[color_range[\"level\"] == \"national\"],\n",
    "    \"Lollipop\"          : color_range,\n",
    "    \"Table\"             : None,\n",
    "    \"Scatterplot\"       : region_colors,\n",
    "    \"Map (Categorical)\" : region_colors\n",
    "}"
   ]
  },
  {
   "cell_type": "code",
   "execution_count": 13,
   "metadata": {},
   "outputs": [],
   "source": [
    "# Creating sub-directories if not already created\n",
    "for report in [\"R1\", \"R2\", \"R3\"]:\n",
    "    os.makedirs(report, exist_ok = True)"
   ]
  },
  {
   "cell_type": "code",
   "execution_count": null,
   "metadata": {},
   "outputs": [],
   "source": [
    "# Using the SVG handler to add interactivity\n",
    "for chart, type in charts4reports.items():\n",
    "    original = SVGhandler.svg(chart, type)\n",
    "    original.addInteractivity(color_scheme[type])"
   ]
  },
  {
   "cell_type": "markdown",
   "metadata": {},
   "source": [
    "## Testing Ground"
   ]
  },
  {
   "cell_type": "code",
   "execution_count": 9,
   "metadata": {},
   "outputs": [
    {
     "name": "stdout",
     "output_type": "stream",
     "text": [
      "Adding interactivity to chart R1F67: Map (Categorical)\n"
     ]
    }
   ],
   "source": [
    "original = SVGhandler.svg(\"R1F67\", \"Map (Categorical)\")\n",
    "original.addInteractivity(color_scheme[\"Map (Categorical)\"])"
   ]
  }
 ],
 "metadata": {
  "kernelspec": {
   "display_name": "Python 3",
   "language": "python",
   "name": "python3"
  },
  "language_info": {
   "codemirror_mode": {
    "name": "ipython",
    "version": 3
   },
   "file_extension": ".py",
   "mimetype": "text/x-python",
   "name": "python",
   "nbconvert_exporter": "python",
   "pygments_lexer": "ipython3",
   "version": "3.11.9"
  }
 },
 "nbformat": 4,
 "nbformat_minor": 2
}
