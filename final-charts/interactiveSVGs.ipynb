{
 "cells": [
  {
   "cell_type": "code",
   "execution_count": 1,
   "metadata": {},
   "outputs": [],
   "source": [
    "import os\n",
    "import pandas as pd\n",
    "import SVGhandler"
   ]
  },
  {
   "cell_type": "code",
   "execution_count": 54,
   "metadata": {},
   "outputs": [],
   "source": [
    "# Reading outline\n",
    "path2SP = f\"/Users/{os.getlogin()}/OneDrive - World Justice Project/EU Subnational/EU-S Data/reports/eu-thematic-reports\"\n",
    "outline = pd.read_excel(f\"{path2SP}/data-viz/inputs/report_outline.xlsx\")\n",
    "\n",
    "outline = outline.loc[(outline[\"report\"] == \"Justice and Safety\")]\n",
    "\n",
    "charts4reports = (\n",
    "    outline\n",
    "    .loc[(outline[\"thematic_reports\"] == True) & (outline[\"type\"] != \"Box\"), [\"chart_id\", \"type\"]]\n",
    ")\n",
    "charts4reports = dict(zip(charts4reports[\"chart_id\"][29:], charts4reports[\"type\"][29:]))"
   ]
  },
  {
   "cell_type": "code",
   "execution_count": 3,
   "metadata": {},
   "outputs": [],
   "source": [
    "# Loading color schemes\n",
    "region_colors  = pd.read_excel(f\"{path2SP}/data-viz/inputs/region_labels.xlsx\")\n",
    "color_range    = pd.read_excel(f\"{path2SP}/data-viz/inputs/color_range.xlsx\")\n",
    "\n",
    "color_scheme = {\n",
    "    \"Map\"               : region_colors,\n",
    "    \"Dumbbells\"         : region_colors,\n",
    "    \"Bars\"              : color_range.copy().loc[color_range[\"level\"] == \"national\"],\n",
    "    \"Dots\"              : color_range.copy().loc[color_range[\"level\"] == \"national\"],\n",
    "    \"Lollipop\"          : color_range,\n",
    "    \"Table\"             : None,\n",
    "    \"Scatterplot\"       : region_colors,\n",
    "    \"Map (Categorical)\" : region_colors\n",
    "}"
   ]
  },
  {
   "cell_type": "code",
   "execution_count": 13,
   "metadata": {},
   "outputs": [],
   "source": [
    "# Creating sub-directories if not already created\n",
    "for report in [\"R1\", \"R2\", \"R3\"]:\n",
    "    os.makedirs(report, exist_ok = True)"
   ]
  },
  {
   "cell_type": "code",
   "execution_count": 55,
   "metadata": {},
   "outputs": [
    {
     "name": "stdout",
     "output_type": "stream",
     "text": [
      "Adding interactivity to chart R2F30: Dumbbells\n",
      "Data for the following regions not found: DK02, DK03, DK05, FI19, FRB, FRD, FRH, FRM, DE8, DEC, NL1, NL2, PT2, SI03\n",
      "Adding interactivity to chart R2F31: Scatterplot\n",
      "Adding interactivity to chart R2F32: Map\n",
      "Adding interactivity to chart R2F33: Map\n",
      "Adding interactivity to chart R2F34: Dumbbells\n",
      "Data for the following regions not found: DK02, DK05, FI19, FRD, FRH, FRM, DE8, DEC, NL1, PT2\n",
      "Adding interactivity to chart R2F35: Scatterplot\n",
      "Adding interactivity to chart R2F36: Map\n",
      "Adding interactivity to chart R2F37: Map\n",
      "Adding interactivity to chart R2F38: Dumbbells\n",
      "Adding interactivity to chart R2F39: Scatterplot\n",
      "Adding interactivity to chart R2F40: Map\n",
      "Adding interactivity to chart R2F41: Dumbbells\n",
      "Data for the following regions not found: DK02, DK03, DK04, DK05, FI19, FRB, FRC, FRD, FRG, FRM, DE5, DE8, DEC, MT00, NL1, NL2, PT2, SI03\n",
      "Adding interactivity to chart R2F42: Dumbbells\n",
      "Data for the following regions not found: DK02, DK03, DK05, FRB, FRD, FRM, DE8, DEC, NL1, NL2, PT2, SI03\n",
      "Adding interactivity to chart R2F43: Map\n",
      "Adding interactivity to chart R2F44: Map\n",
      "Adding interactivity to chart R2F45: Map\n",
      "Adding interactivity to chart R2F46: Map\n",
      "Adding interactivity to chart R2F47: Dumbbells\n",
      "Data for the following regions not found: DK02, DK05, FRM, DE8, PT2\n",
      "Adding interactivity to chart R2F48: Scatterplot\n",
      "Adding interactivity to chart R2F49: Map\n",
      "Adding interactivity to chart R2F50: Map\n",
      "Adding interactivity to chart R2F51: Map\n",
      "Adding interactivity to chart R2F52: Map\n",
      "Adding interactivity to chart R2F53: Map\n",
      "Adding interactivity to chart R2F54: Dumbbells\n",
      "Data for the following regions not found: AT2, CZ0708, DK02, DK03, DK05, FI19, FRB, FRD, FRH, FRM, DE5, DE8, DEC, DEE, NL1, NL2, PT2, SI03\n",
      "Adding interactivity to chart R2F55: Map\n",
      "Adding interactivity to chart R2F56: Map\n",
      "Adding interactivity to chart R2F57: Map\n",
      "Adding interactivity to chart R2F58: Map\n",
      "Tooltips for the following regions not found: IE06, IE04, IE05\n",
      "Polygons for the following regions not found: \n",
      "Adding interactivity to chart R2F59: Map\n",
      "Tooltips for the following regions not found: IE06, IE04, IE05\n",
      "Polygons for the following regions not found: \n",
      "Adding interactivity to chart R2F60: Map\n",
      "Tooltips for the following regions not found: IE06, IE04, IE05\n",
      "Polygons for the following regions not found: \n",
      "Adding interactivity to chart R2F61: Map\n",
      "Tooltips for the following regions not found: IE06, IE04, IE05\n",
      "Polygons for the following regions not found: \n"
     ]
    }
   ],
   "source": [
    "# Using the SVG handler to add interactivity\n",
    "for chart, type in charts4reports.items():\n",
    "    original = SVGhandler.svg(chart, type)\n",
    "    original.addInteractivity(color_scheme[type])"
   ]
  }
 ],
 "metadata": {
  "kernelspec": {
   "display_name": "Python 3",
   "language": "python",
   "name": "python3"
  },
  "language_info": {
   "codemirror_mode": {
    "name": "ipython",
    "version": 3
   },
   "file_extension": ".py",
   "mimetype": "text/x-python",
   "name": "python",
   "nbconvert_exporter": "python",
   "pygments_lexer": "ipython3",
   "version": "3.11.9"
  }
 },
 "nbformat": 4,
 "nbformat_minor": 2
}
