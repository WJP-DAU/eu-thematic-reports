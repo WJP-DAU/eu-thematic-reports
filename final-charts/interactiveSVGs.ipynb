{
 "cells": [
  {
   "cell_type": "code",
   "execution_count": 1,
   "metadata": {},
   "outputs": [],
   "source": [
    "import os\n",
    "import getpass\n",
    "import pandas as pd\n",
    "import SVGhandler"
   ]
  },
  {
   "cell_type": "code",
   "execution_count": 8,
   "metadata": {},
   "outputs": [],
   "source": [
    "# Reading outline\n",
    "path2SP = f\"/Users/{getpass.getuser()}/OneDrive - World Justice Project/EU Subnational/EU-S Data/reports/eu-thematic-reports\"\n",
    "outline = pd.read_excel(f\"{path2SP}/data-viz/inputs/report_outline.xlsx\")\n",
    "\n",
    "charts4reports = (\n",
    "    outline\n",
    "    # .loc[(outline[\"thematic_reports\"] == True) & (outline[\"type\"] != \"Box\"), [\"chart_id\", \"type\"]]\n",
    "    .loc[outline[\"chart_id\"].isin([\"R2F26\", \"R2F27\", \"R2F28\", \"R2F29\"])]\n",
    ")\n",
    "charts4reports = dict(zip(charts4reports[\"chart_id\"], charts4reports[\"type\"]))"
   ]
  },
  {
   "cell_type": "code",
   "execution_count": 10,
   "metadata": {},
   "outputs": [],
   "source": [
    "# Loading color schemes\n",
    "region_colors  = pd.read_excel(f\"{path2SP}/data-viz/inputs/region_labels.xlsx\")\n",
    "color_range    = pd.read_excel(f\"{path2SP}/data-viz/inputs/color_range.xlsx\")\n",
    "\n",
    "color_scheme = {\n",
    "    \"Map\"               : region_colors,\n",
    "    \"Dumbbells\"         : region_colors,\n",
    "    \"Bars\"              : color_range.copy().loc[color_range[\"level\"] == \"national\"],\n",
    "    \"QRQ Bars\"          : color_range.copy().loc[color_range[\"level\"] == \"national\"],\n",
    "    \"Dots\"              : color_range.copy().loc[color_range[\"level\"] == \"national\"],\n",
    "    \"Lollipop\"          : color_range,\n",
    "    \"Table\"             : None,\n",
    "    \"Scatterplot\"       : region_colors,\n",
    "    \"Map (Categorical)\" : region_colors\n",
    "}"
   ]
  },
  {
   "cell_type": "code",
   "execution_count": 11,
   "metadata": {},
   "outputs": [
    {
     "name": "stdout",
     "output_type": "stream",
     "text": [
      "Adding interactivity to chart R2F26: Bars\n",
      "Data for the following countries not found: IE\n",
      "Adding interactivity to chart R2F27: Bars\n",
      "Data for the following countries not found: IE\n",
      "Adding interactivity to chart R2F28: Bars\n",
      "Data for the following countries not found: IE\n",
      "Adding interactivity to chart R2F29: Bars\n",
      "Data for the following countries not found: IE\n"
     ]
    }
   ],
   "source": [
    "# Using the SVG handler to add interactivity\n",
    "for chart, type in charts4reports.items():\n",
    "    original = SVGhandler.svg(chart, type)\n",
    "    original.addInteractivity(color_scheme[type])"
   ]
  },
  {
   "cell_type": "markdown",
   "metadata": {},
   "source": [
    "## Testing Ground"
   ]
  },
  {
   "cell_type": "code",
   "execution_count": 24,
   "metadata": {},
   "outputs": [],
   "source": [
    "# original = SVGhandler.svg(\"R2F31\", \"Scatterplot\")\n",
    "# original.addInteractivity(color_scheme[\"Scatterplot\"])"
   ]
  }
 ],
 "metadata": {
  "kernelspec": {
   "display_name": "Python 3",
   "language": "python",
   "name": "python3"
  },
  "language_info": {
   "codemirror_mode": {
    "name": "ipython",
    "version": 3
   },
   "file_extension": ".py",
   "mimetype": "text/x-python",
   "name": "python",
   "nbconvert_exporter": "python",
   "pygments_lexer": "ipython3",
   "version": "3.11.9"
  }
 },
 "nbformat": 4,
 "nbformat_minor": 2
}
