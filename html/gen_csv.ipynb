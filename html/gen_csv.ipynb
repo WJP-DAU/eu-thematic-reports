{
 "cells": [
  {
   "cell_type": "code",
   "execution_count": 22,
   "metadata": {},
   "outputs": [],
   "source": [
    "import re\n",
    "import getpass\n",
    "import numpy as np\n",
    "import pandas as pd\n",
    "import text_input\n",
    "import importlib"
   ]
  },
  {
   "cell_type": "markdown",
   "metadata": {},
   "source": [
    "## Parameters"
   ]
  },
  {
   "cell_type": "code",
   "execution_count": 2,
   "metadata": {},
   "outputs": [],
   "source": [
    "report  = \"R1\"\n",
    "path2SP = f\"/Users/{getpass.getuser()}/OneDrive - World Justice Project/EU Subnational/EU-S Data/reports/eu-thematic-reports\""
   ]
  },
  {
   "cell_type": "markdown",
   "metadata": {},
   "source": [
    "## Reading outline"
   ]
  },
  {
   "cell_type": "code",
   "execution_count": 3,
   "metadata": {},
   "outputs": [],
   "source": [
    "# Reading outline\n",
    "outline = pd.read_excel(f\"{path2SP}/data-viz/inputs/report_outline.xlsx\")\n",
    "charts4reports = (\n",
    "    outline.copy()\n",
    "    .loc[(outline[\"thematic_reports\"] == True) ]\n",
    ")"
   ]
  },
  {
   "cell_type": "markdown",
   "metadata": {},
   "source": [
    "# Creating text input classes"
   ]
  },
  {
   "cell_type": "code",
   "execution_count": 4,
   "metadata": {},
   "outputs": [],
   "source": [
    "# Reading text inputs\n",
    "input_files = [\n",
    "    \"title-&-scroll.md\",\n",
    "    \"introduction.md\",\n",
    "    # \"executive-summary.md\",\n",
    "    \"thematic-findings.md\",\n",
    "    \"appendix.md\",\n",
    "    \"methodology.md\",\n",
    "    \"about.md\",\n",
    "    \"acknowledgements.md\"\n",
    "]\n",
    "inputs_as_classes = [text_input.text_input(report, x) for x in input_files]\n",
    "inputs = dict(zip(input_files, inputs_as_classes))"
   ]
  },
  {
   "cell_type": "markdown",
   "metadata": {},
   "source": [
    "## Wrangling and exporting data"
   ]
  },
  {
   "cell_type": "code",
   "execution_count": 29,
   "metadata": {},
   "outputs": [],
   "source": [
    "versions = {\n",
    "    \"html-version\" : False,\n",
    "    \"pdf-version\"  : True\n",
    "}\n",
    "for version, parameter in versions.items():\n",
    "\n",
    "    front_page = inputs[\"title-&-scroll.md\"].get_front_page()\n",
    "    intro_sections = [\n",
    "        input.get_intro_sections(start_id = np.max(front_page.id)+1) \n",
    "        for type, input in inputs.items() \n",
    "        if type in [\"introduction.md\", \"executive-summary.md\"]\n",
    "    ]\n",
    "    thematic_findings = (\n",
    "        inputs[\"thematic-findings.md\"]\n",
    "        .get_thematic_findings(\n",
    "            charts4reports, \n",
    "            pdfver   = parameter, \n",
    "            id_start = np.max(intro_sections[-1].id)+1\n",
    "        )\n",
    "    )\n",
    "    final_sections = [\n",
    "        input.get_final_sections(start_id = np.max(thematic_findings.id)+1)\n",
    "        for type, input in inputs.items()\n",
    "        if type in [\"appendix.md\", \"methodology.md\", \"about.md\", \"acknowledgements.md\"]\n",
    "    ]\n",
    "    \n",
    "    csv_data = pd.concat([front_page] + intro_sections + [thematic_findings] + final_sections)\n",
    "    csv_data[[\"id\", \"belongs_to\"]] = csv_data[[\"id\", \"belongs_to\"]].astype(\"Int64\")\n",
    "    data4config = (\n",
    "        csv_data.copy()\n",
    "        .loc[~csv_data[\"id4config\"].isna(), [\"content\", \"id4config\"]]\n",
    "    )\n",
    "    csv_data.columns = [\"id\", \"tipo de elemento\", \"contenido (markdown)\", \"pertenece a \", \"settings\", \"id4config\"]\n",
    "    (\n",
    "        csv_data\n",
    "        .drop(columns=[\"id4config\"])\n",
    "        .to_csv(f\"{report}/{report}-csv-schema-{version}.csv\", index = False, encoding = \"utf-8\")\n",
    "    )\n"
   ]
  },
  {
   "cell_type": "code",
   "execution_count": 56,
   "metadata": {},
   "outputs": [],
   "source": [
    "data4config[\"file\"] = data4config[\"content\"].apply(lambda x: re.sub(r\"\\.svg\", \".csv\", x))\n",
    "data4config[\"id\"]   = data4config[\"content\"].apply(lambda x: re.sub(r\"\\.svg\", \"\", x))\n",
    "\n",
    "config_file = pd.merge(\n",
    "    data4config,\n",
    "    outline[[\"chart_id\", \"description\", \"type\"]],\n",
    "    how      = \"left\",\n",
    "    left_on  = \"id\",\n",
    "    right_on = \"chart_id\"\n",
    ")\n",
    "\n",
    "desc2names = {\n",
    "    \"QRQ\" : \"expert\",\n",
    "    \"GPP\" : \"people\"\n",
    "}\n",
    "type2names = {\n",
    "    \"Map\"       : \"map\",\n",
    "    \"Lollipop\"  : \"lollypop\",\n",
    "    \"Dumbbells\" : \"dumbbell\"\n",
    "}\n",
    "config_file[\"description\"] = config_file[\"description\"].replace(desc2names)\n",
    "config_file[\"type\"] = config_file[\"type\"].replace(type2names)\n",
    "config_file = (\n",
    "    config_file.loc[config_file[\"type\"].isin([\"map\", \"lollypop\", \"dumbbell\"]), [\"type\", \"file\", \"id4config\", \"description\"]]\n",
    ")\n",
    "config_file.columns = [\"type\", \"file\", \"id\", \"handler\"]\n",
    "config_file.to_csv(f\"{report}/config.csv\", index = False, encoding = \"utf-8\")"
   ]
  }
 ],
 "metadata": {
  "kernelspec": {
   "display_name": "Python 3",
   "language": "python",
   "name": "python3"
  },
  "language_info": {
   "codemirror_mode": {
    "name": "ipython",
    "version": 3
   },
   "file_extension": ".py",
   "mimetype": "text/x-python",
   "name": "python",
   "nbconvert_exporter": "python",
   "pygments_lexer": "ipython3",
   "version": "3.11.9"
  }
 },
 "nbformat": 4,
 "nbformat_minor": 2
}
