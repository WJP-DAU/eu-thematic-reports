{
 "cells": [
  {
   "cell_type": "code",
   "execution_count": 1,
   "metadata": {},
   "outputs": [],
   "source": [
    "import re\n",
    "import getpass\n",
    "import shutil\n",
    "import numpy as np\n",
    "import pandas as pd\n",
    "import text_input\n",
    "import importlib"
   ]
  },
  {
   "cell_type": "markdown",
   "metadata": {},
   "source": [
    "## Parameters"
   ]
  },
  {
   "cell_type": "code",
   "execution_count": 2,
   "metadata": {},
   "outputs": [],
   "source": [
    "report  = \"R2\"\n",
    "path2SP = f\"/Users/{getpass.getuser()}/OneDrive - World Justice Project/EU Subnational/EU-S Data/reports/eu-thematic-reports\""
   ]
  },
  {
   "cell_type": "markdown",
   "metadata": {},
   "source": [
    "## Reading outline"
   ]
  },
  {
   "cell_type": "code",
   "execution_count": 3,
   "metadata": {},
   "outputs": [],
   "source": [
    "# Reading outline\n",
    "outline = pd.read_excel(f\"{path2SP}/data-viz/inputs/report_outline.xlsx\")\n",
    "charts4reports = (\n",
    "    outline.copy()\n",
    "    .loc[(outline[\"thematic_reports\"] == True) ]\n",
    ")"
   ]
  },
  {
   "cell_type": "markdown",
   "metadata": {},
   "source": [
    "# Creating text input classes"
   ]
  },
  {
   "cell_type": "code",
   "execution_count": 4,
   "metadata": {},
   "outputs": [],
   "source": [
    "# Reading text inputs\n",
    "input_files = [\n",
    "    \"title-&-scroll.md\",\n",
    "    \"introduction.md\",\n",
    "    # \"executive-summary.md\",\n",
    "    \"thematic-findings.md\",\n",
    "    \"appendix.md\",\n",
    "    \"methodology.md\",\n",
    "    \"about.md\",\n",
    "    \"acknowledgements.md\"\n",
    "]\n",
    "inputs_as_classes = [text_input.text_input(report, x) for x in input_files]\n",
    "inputs = dict(zip(input_files, inputs_as_classes))"
   ]
  },
  {
   "cell_type": "markdown",
   "metadata": {},
   "source": [
    "## Wrangling and saving report structure"
   ]
  },
  {
   "cell_type": "code",
   "execution_count": 5,
   "metadata": {},
   "outputs": [],
   "source": [
    "versions = {\n",
    "    \"html-version\" : False,\n",
    "    \"pdf-version\"  : True\n",
    "}\n",
    "for version, parameter in versions.items():\n",
    "\n",
    "    front_page = inputs[\"title-&-scroll.md\"].get_front_page()\n",
    "    intro_sections = [\n",
    "        input.get_intro_sections(start_id = np.max(front_page.id)+1) \n",
    "        for type, input in inputs.items() \n",
    "        if type in [\"introduction.md\", \"executive-summary.md\"]\n",
    "    ]\n",
    "    thematic_findings = (\n",
    "        inputs[\"thematic-findings.md\"]\n",
    "        .get_thematic_findings(\n",
    "            charts4reports, \n",
    "            pdfver   = parameter, \n",
    "            id_start = np.max(intro_sections[-1].id)+1\n",
    "        )\n",
    "    )\n",
    "    final_sections = [\n",
    "        input.get_final_sections(start_id = np.max(thematic_findings.id)+1)\n",
    "        for type, input in inputs.items()\n",
    "        if type in [\"appendix.md\", \"methodology.md\", \"about.md\", \"acknowledgements.md\"]\n",
    "    ]\n",
    "    \n",
    "    csv_data = pd.concat([front_page] + intro_sections + [thematic_findings] + final_sections)\n",
    "    csv_data[[\"id\", \"belongs_to\"]] = csv_data[[\"id\", \"belongs_to\"]].astype(\"Int64\")\n",
    "    data4config = (\n",
    "        csv_data.copy()\n",
    "        .loc[~csv_data[\"id4config\"].isna(), [\"content\", \"id4config\"]]\n",
    "    )\n",
    "    csv_data.columns = [\"id\", \"tipo de elemento\", \"contenido (markdown)\", \"pertenece a \", \"settings\", \"id4config\"]\n",
    "    (\n",
    "        csv_data\n",
    "        .drop(columns=[\"id4config\"])\n",
    "        .to_csv(f\"{report}/{report}-csv-schema-{version}.csv\", index = False, encoding = \"utf-8\")\n",
    "    )\n"
   ]
  },
  {
   "cell_type": "markdown",
   "metadata": {},
   "source": [
    "## Creating config file"
   ]
  },
  {
   "cell_type": "code",
   "execution_count": 6,
   "metadata": {},
   "outputs": [],
   "source": [
    "data4config[\"file\"] = data4config[\"content\"].apply(lambda x: re.sub(r\"\\.svg\", \".csv\", x))\n",
    "data4config[\"id\"]   = data4config[\"content\"].apply(lambda x: re.sub(r\"\\.svg\", \"\", x))\n",
    "\n",
    "config_file = pd.merge(\n",
    "    data4config,\n",
    "    outline[[\"chart_id\", \"description\", \"type\", \"target_var_1\", \"section\"]],\n",
    "    how      = \"left\",\n",
    "    left_on  = \"id\",\n",
    "    right_on = \"chart_id\"\n",
    ")\n",
    "\n",
    "desc2names = {\n",
    "    \"QRQ\" : \"expert\",\n",
    "    \"GPP\" : \"people\"\n",
    "}\n",
    "type2names = {\n",
    "    \"Map\"       : \"map\",\n",
    "    \"Lollipop\"  : \"lollypop\",\n",
    "    \"Dumbbells\" : \"dumbbell\"\n",
    "}\n",
    "config_file[\"description\"] = config_file[\"description\"].replace(desc2names)\n",
    "config_file[\"type\"] = config_file[\"type\"].replace(type2names)\n",
    "config_file_final = (\n",
    "    config_file.loc[config_file[\"type\"].isin([\"map\", \"lollypop\", \"dumbbell\"]), [\"type\", \"file\", \"id4config\", \"description\"]]\n",
    ")\n",
    "config_file_final.columns = [\"type\", \"file\", \"id\", \"handler\"]\n",
    "config_file_final.to_csv(f\"{report}/config.csv\", index = False, encoding = \"utf-8\")"
   ]
  },
  {
   "cell_type": "markdown",
   "metadata": {},
   "source": [
    "## Wrangling and saving mini tables"
   ]
  },
  {
   "cell_type": "code",
   "execution_count": 7,
   "metadata": {},
   "outputs": [],
   "source": [
    "## Subsetting data\n",
    "if report == \"R1\":\n",
    "    report_title = \"Democracy & Fundamental Rights\"\n",
    "if report == \"R2\":\n",
    "    report_title = \"Justice & Safety\"\n",
    "if report == \"R3\":\n",
    "    report_title = \"Transparency & Corruption\""
   ]
  },
  {
   "cell_type": "code",
   "execution_count": 8,
   "metadata": {},
   "outputs": [],
   "source": [
    "data4minitabs = (\n",
    "    config_file.copy()\n",
    "    .loc[config_file[\"type\"].isin([\"map\", \"lollypop\", \"dumbbell\"])]\n",
    ")\n",
    "\n",
    "gpp_data = pd.read_csv(f\"{path2SP}/data-viz/output/data4web_gpp.csv\")\n",
    "qrq_data = pd.read_csv(f\"{path2SP}/data-viz/output/data4web_qrq.csv\")\n",
    "\n",
    "for _, row in data4minitabs.iterrows():\n",
    "    if row[\"description\"] == \"expert\":\n",
    "\n",
    "        minitab = (\n",
    "            qrq_data.copy()\n",
    "            .loc[(qrq_data[\"indicator\"] == row[\"target_var_1\"]) & (qrq_data[\"subpillar_name\"] == row[\"section\"])]\n",
    "        )\n",
    "\n",
    "        if row[\"type\"] == \"dumbbell\":\n",
    "            minitab = (\n",
    "                minitab\n",
    "                .loc[minitab[\"score\"].notna()]\n",
    "            )\n",
    "\n",
    "    if row[\"description\"] == \"people\":\n",
    "        minitab = (\n",
    "            gpp_data.copy()\n",
    "            .loc[\n",
    "                (gpp_data[\"demographic\"] == \"Total Sample\") & \n",
    "                (gpp_data[\"id\"] == row[\"target_var_1\"]) & \n",
    "                (gpp_data[\"subsection\"] == row[\"section\"]) &\n",
    "                (gpp_data[\"chapter\"] == report_title)\n",
    "            ]\n",
    "        )\n",
    "\n",
    "    minitab.to_csv(f\"{path2SP}/final-charts/mini-tables/{report}/{row['file']}\", index = False, encoding = \"utf-8\")\n"
   ]
  },
  {
   "cell_type": "markdown",
   "metadata": {},
   "source": [
    "## Gathering report assets\n",
    "\n",
    "Before gathering, make sure to have optimized the SVGs in the `/eu-thematic-reports/final-charts/reduced`"
   ]
  },
  {
   "cell_type": "code",
   "execution_count": 9,
   "metadata": {},
   "outputs": [
    {
     "ename": "FileNotFoundError",
     "evalue": "[Errno 2] No such file or directory: '/Users/carlostoruno/OneDrive - World Justice Project/EU Subnational/EU-S Data/reports/eu-thematic-reports/final-charts/reduced/R2F58.svg'",
     "output_type": "error",
     "traceback": [
      "\u001b[0;31m---------------------------------------------------------------------------\u001b[0m",
      "\u001b[0;31mFileNotFoundError\u001b[0m                         Traceback (most recent call last)",
      "Cell \u001b[0;32mIn[9], line 21\u001b[0m\n\u001b[1;32m     18\u001b[0m     source      \u001b[38;5;241m=\u001b[39m \u001b[38;5;124mf\u001b[39m\u001b[38;5;124m\"\u001b[39m\u001b[38;5;132;01m{\u001b[39;00mpath2SP\u001b[38;5;132;01m}\u001b[39;00m\u001b[38;5;124m/final-charts/png/\u001b[39m\u001b[38;5;132;01m{\u001b[39;00mrow[\u001b[38;5;124m'\u001b[39m\u001b[38;5;124mchart_id\u001b[39m\u001b[38;5;124m'\u001b[39m]\u001b[38;5;132;01m}\u001b[39;00m\u001b[38;5;124m.png\u001b[39m\u001b[38;5;124m\"\u001b[39m\n\u001b[1;32m     19\u001b[0m     destination \u001b[38;5;241m=\u001b[39m \u001b[38;5;124mf\u001b[39m\u001b[38;5;124m\"\u001b[39m\u001b[38;5;132;01m{\u001b[39;00mpath2SP\u001b[38;5;132;01m}\u001b[39;00m\u001b[38;5;124m/html/\u001b[39m\u001b[38;5;132;01m{\u001b[39;00mreport\u001b[38;5;132;01m}\u001b[39;00m\u001b[38;5;124m/assets/\u001b[39m\u001b[38;5;132;01m{\u001b[39;00mrow[\u001b[38;5;124m'\u001b[39m\u001b[38;5;124mchart_id\u001b[39m\u001b[38;5;124m'\u001b[39m]\u001b[38;5;132;01m}\u001b[39;00m\u001b[38;5;124m.png\u001b[39m\u001b[38;5;124m\"\u001b[39m\n\u001b[0;32m---> 21\u001b[0m \u001b[43mshutil\u001b[49m\u001b[38;5;241;43m.\u001b[39;49m\u001b[43mcopy2\u001b[49m\u001b[43m(\u001b[49m\u001b[43msource\u001b[49m\u001b[43m,\u001b[49m\u001b[43m \u001b[49m\u001b[43mdestination\u001b[49m\u001b[43m)\u001b[49m    \n",
      "File \u001b[0;32m/Library/Frameworks/Python.framework/Versions/3.11/lib/python3.11/shutil.py:448\u001b[0m, in \u001b[0;36mcopy2\u001b[0;34m(src, dst, follow_symlinks)\u001b[0m\n\u001b[1;32m    446\u001b[0m \u001b[38;5;28;01mif\u001b[39;00m os\u001b[38;5;241m.\u001b[39mpath\u001b[38;5;241m.\u001b[39misdir(dst):\n\u001b[1;32m    447\u001b[0m     dst \u001b[38;5;241m=\u001b[39m os\u001b[38;5;241m.\u001b[39mpath\u001b[38;5;241m.\u001b[39mjoin(dst, os\u001b[38;5;241m.\u001b[39mpath\u001b[38;5;241m.\u001b[39mbasename(src))\n\u001b[0;32m--> 448\u001b[0m \u001b[43mcopyfile\u001b[49m\u001b[43m(\u001b[49m\u001b[43msrc\u001b[49m\u001b[43m,\u001b[49m\u001b[43m \u001b[49m\u001b[43mdst\u001b[49m\u001b[43m,\u001b[49m\u001b[43m \u001b[49m\u001b[43mfollow_symlinks\u001b[49m\u001b[38;5;241;43m=\u001b[39;49m\u001b[43mfollow_symlinks\u001b[49m\u001b[43m)\u001b[49m\n\u001b[1;32m    449\u001b[0m copystat(src, dst, follow_symlinks\u001b[38;5;241m=\u001b[39mfollow_symlinks)\n\u001b[1;32m    450\u001b[0m \u001b[38;5;28;01mreturn\u001b[39;00m dst\n",
      "File \u001b[0;32m/Library/Frameworks/Python.framework/Versions/3.11/lib/python3.11/shutil.py:256\u001b[0m, in \u001b[0;36mcopyfile\u001b[0;34m(src, dst, follow_symlinks)\u001b[0m\n\u001b[1;32m    254\u001b[0m     os\u001b[38;5;241m.\u001b[39msymlink(os\u001b[38;5;241m.\u001b[39mreadlink(src), dst)\n\u001b[1;32m    255\u001b[0m \u001b[38;5;28;01melse\u001b[39;00m:\n\u001b[0;32m--> 256\u001b[0m     \u001b[38;5;28;01mwith\u001b[39;00m \u001b[38;5;28mopen\u001b[39m(src, \u001b[38;5;124m'\u001b[39m\u001b[38;5;124mrb\u001b[39m\u001b[38;5;124m'\u001b[39m) \u001b[38;5;28;01mas\u001b[39;00m fsrc:\n\u001b[1;32m    257\u001b[0m         \u001b[38;5;28;01mtry\u001b[39;00m:\n\u001b[1;32m    258\u001b[0m             \u001b[38;5;28;01mwith\u001b[39;00m \u001b[38;5;28mopen\u001b[39m(dst, \u001b[38;5;124m'\u001b[39m\u001b[38;5;124mwb\u001b[39m\u001b[38;5;124m'\u001b[39m) \u001b[38;5;28;01mas\u001b[39;00m fdst:\n\u001b[1;32m    259\u001b[0m                 \u001b[38;5;66;03m# macOS\u001b[39;00m\n",
      "\u001b[0;31mFileNotFoundError\u001b[0m: [Errno 2] No such file or directory: '/Users/carlostoruno/OneDrive - World Justice Project/EU Subnational/EU-S Data/reports/eu-thematic-reports/final-charts/reduced/R2F58.svg'"
     ]
    }
   ],
   "source": [
    "targeted_outline = charts4reports.loc[charts4reports[\"report\"] == report_title, [\"figure\", \"chart_id\", \"type\"]]\n",
    "\n",
    "# Looping through charts\n",
    "for _, row in targeted_outline.iterrows():\n",
    "    if row[\"type\"] in [\"Map\", \"Dumbbells\", \"Lollipop\"]:\n",
    "        source      = f\"{path2SP}/final-charts/mini-tables/{report}/{row['chart_id']}.csv\"\n",
    "        destination = f\"{path2SP}/html/{report}/assets/{row['chart_id']}.csv\"\n",
    "\n",
    "    if row[\"type\"] in [\"Dots\", \"Bars\", \"QRQ Bars\", \"Scatterplot\", \"Map (Categorical)\"]:\n",
    "        source      = f\"{path2SP}/final-charts/reduced/{row['chart_id']}.svg\"\n",
    "        destination = f\"{path2SP}/html/{report}/assets/{row['chart_id']}.svg\"\n",
    "\n",
    "    if row[\"type\"] in [\"Box\", \"Table\"]:\n",
    "        source      = f\"{path2SP}/final-charts/png/{row['chart_id']}.png\"\n",
    "        destination = f\"{path2SP}/html/{report}/assets/{row['chart_id']}.png\"\n",
    "    \n",
    "    if row[\"chart_id\"] in [\"R2F25\"]:\n",
    "        source      = f\"{path2SP}/final-charts/png/{row['chart_id']}.png\"\n",
    "        destination = f\"{path2SP}/html/{report}/assets/{row['chart_id']}.png\"\n",
    "\n",
    "    shutil.copy2(source, destination)    "
   ]
  }
 ],
 "metadata": {
  "kernelspec": {
   "display_name": "Python 3",
   "language": "python",
   "name": "python3"
  },
  "language_info": {
   "codemirror_mode": {
    "name": "ipython",
    "version": 3
   },
   "file_extension": ".py",
   "mimetype": "text/x-python",
   "name": "python",
   "nbconvert_exporter": "python",
   "pygments_lexer": "ipython3",
   "version": "3.11.9"
  }
 },
 "nbformat": 4,
 "nbformat_minor": 2
}
